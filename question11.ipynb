{
 "cells": [
  {
   "cell_type": "markdown",
   "id": "3398179c-a7ea-4f60-9339-a3f0674ff369",
   "metadata": {},
   "source": [
    "# Oliver Evans \n",
    "Notebook for assignment 7"
   ]
  },
  {
   "cell_type": "code",
   "execution_count": 13,
   "id": "4f034a87-cd78-4007-aee8-0733c50bd8fb",
   "metadata": {},
   "outputs": [],
   "source": [
    "def compute_mean(list_values):\n",
    "    '''\n",
    "    Takes a list input and prints the mean of the values.\n",
    "    '''\n",
    "    # Ensure the input is a list and it is not empty\n",
    "    if not isinstance(list_values, list) or len(list_values) == 0:\n",
    "        print(\"Input should be a non-empty list.\")\n",
    "        return\n",
    "    \n",
    "    # Calculate the mean\n",
    "    mean_value = sum(list_values) / len(list_values)\n",
    "    \n",
    "    # Print the mean\n",
    "    print(mean_value)"
   ]
  },
  {
   "cell_type": "code",
   "execution_count": 14,
   "id": "3e5fdbb3-55c2-473d-abd0-c77a16176620",
   "metadata": {},
   "outputs": [
    {
     "name": "stdout",
     "output_type": "stream",
     "text": [
      "5.0\n"
     ]
    }
   ],
   "source": [
    "compute_mean([2, 4, 6, 8])"
   ]
  },
  {
   "cell_type": "markdown",
   "id": "b457cb05-35dc-4913-afd6-505f99156e81",
   "metadata": {},
   "source": [
    "The compute_mean function takes a list of numerical values as input and calculates the mean of those values and prints it out.\n",
    "\n",
    "$\\bar{x} = \\frac{\\left(x_{1} + x_{2} + x_{3} + \\cdots + x_{n}\\right)}{n}$\n",
    "\n",
    "where: \n",
    "\n",
    "$\\bar{x}$ = mean\n",
    "\n",
    "$x_{n}$ = list item\n",
    "\n",
    "${n}$ = number of list items\n",
    "\n",
    "Or:\n",
    "\n",
    "$\\bar{x}  = \\frac{\\sum_{n}}{n}\\$\n",
    "\n",
    "where:\n",
    "\n",
    "$\\bar{x}$ = mean\n",
    "\n",
    "${\\sum_{n}}$ = sum of list items\n",
    "\n",
    "${n}$ = number of list items\n"
   ]
  }
 ],
 "metadata": {
  "kernelspec": {
   "display_name": "Python 3 (ipykernel)",
   "language": "python",
   "name": "python3"
  },
  "language_info": {
   "codemirror_mode": {
    "name": "ipython",
    "version": 3
   },
   "file_extension": ".py",
   "mimetype": "text/x-python",
   "name": "python",
   "nbconvert_exporter": "python",
   "pygments_lexer": "ipython3",
   "version": "3.12.3"
  }
 },
 "nbformat": 4,
 "nbformat_minor": 5
}
